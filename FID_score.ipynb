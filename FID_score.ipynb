{
  "nbformat": 4,
  "nbformat_minor": 0,
  "metadata": {
    "colab": {
      "provenance": [],
      "gpuType": "T4"
    },
    "kernelspec": {
      "name": "python3",
      "display_name": "Python 3"
    },
    "language_info": {
      "name": "python"
    },
    "accelerator": "GPU"
  },
  "cells": [
    {
      "cell_type": "code",
      "execution_count": null,
      "metadata": {
        "id": "NOzNwpCFJNfE",
        "colab": {
          "base_uri": "https://localhost:8080/"
        },
        "outputId": "609d7d38-9098-4021-d3ee-604aaf889beb"
      },
      "outputs": [
        {
          "output_type": "stream",
          "name": "stdout",
          "text": [
            "Collecting pytorch-fid\n",
            "  Downloading pytorch_fid-0.3.0-py3-none-any.whl (15 kB)\n",
            "Requirement already satisfied: numpy in /usr/local/lib/python3.10/dist-packages (from pytorch-fid) (1.23.5)\n",
            "Requirement already satisfied: pillow in /usr/local/lib/python3.10/dist-packages (from pytorch-fid) (9.4.0)\n",
            "Requirement already satisfied: scipy in /usr/local/lib/python3.10/dist-packages (from pytorch-fid) (1.11.4)\n",
            "Requirement already satisfied: torch>=1.0.1 in /usr/local/lib/python3.10/dist-packages (from pytorch-fid) (2.1.0+cu118)\n",
            "Requirement already satisfied: torchvision>=0.2.2 in /usr/local/lib/python3.10/dist-packages (from pytorch-fid) (0.16.0+cu118)\n",
            "Requirement already satisfied: filelock in /usr/local/lib/python3.10/dist-packages (from torch>=1.0.1->pytorch-fid) (3.13.1)\n",
            "Requirement already satisfied: typing-extensions in /usr/local/lib/python3.10/dist-packages (from torch>=1.0.1->pytorch-fid) (4.5.0)\n",
            "Requirement already satisfied: sympy in /usr/local/lib/python3.10/dist-packages (from torch>=1.0.1->pytorch-fid) (1.12)\n",
            "Requirement already satisfied: networkx in /usr/local/lib/python3.10/dist-packages (from torch>=1.0.1->pytorch-fid) (3.2.1)\n",
            "Requirement already satisfied: jinja2 in /usr/local/lib/python3.10/dist-packages (from torch>=1.0.1->pytorch-fid) (3.1.2)\n",
            "Requirement already satisfied: fsspec in /usr/local/lib/python3.10/dist-packages (from torch>=1.0.1->pytorch-fid) (2023.6.0)\n",
            "Requirement already satisfied: triton==2.1.0 in /usr/local/lib/python3.10/dist-packages (from torch>=1.0.1->pytorch-fid) (2.1.0)\n",
            "Requirement already satisfied: requests in /usr/local/lib/python3.10/dist-packages (from torchvision>=0.2.2->pytorch-fid) (2.31.0)\n",
            "Requirement already satisfied: MarkupSafe>=2.0 in /usr/local/lib/python3.10/dist-packages (from jinja2->torch>=1.0.1->pytorch-fid) (2.1.3)\n",
            "Requirement already satisfied: charset-normalizer<4,>=2 in /usr/local/lib/python3.10/dist-packages (from requests->torchvision>=0.2.2->pytorch-fid) (3.3.2)\n",
            "Requirement already satisfied: idna<4,>=2.5 in /usr/local/lib/python3.10/dist-packages (from requests->torchvision>=0.2.2->pytorch-fid) (3.6)\n",
            "Requirement already satisfied: urllib3<3,>=1.21.1 in /usr/local/lib/python3.10/dist-packages (from requests->torchvision>=0.2.2->pytorch-fid) (2.0.7)\n",
            "Requirement already satisfied: certifi>=2017.4.17 in /usr/local/lib/python3.10/dist-packages (from requests->torchvision>=0.2.2->pytorch-fid) (2023.11.17)\n",
            "Requirement already satisfied: mpmath>=0.19 in /usr/local/lib/python3.10/dist-packages (from sympy->torch>=1.0.1->pytorch-fid) (1.3.0)\n",
            "Installing collected packages: pytorch-fid\n",
            "Successfully installed pytorch-fid-0.3.0\n"
          ]
        }
      ],
      "source": [
        "!pip install pytorch-fid"
      ]
    },
    {
      "cell_type": "code",
      "source": [
        "%cd /content/drive/MyDrive/"
      ],
      "metadata": {
        "colab": {
          "base_uri": "https://localhost:8080/"
        },
        "id": "RPHgTPgaaOs4",
        "outputId": "89dff83b-257d-4d3c-da36-a5ace47bacd1"
      },
      "execution_count": null,
      "outputs": [
        {
          "output_type": "stream",
          "name": "stdout",
          "text": [
            "/content/drive/MyDrive\n"
          ]
        }
      ]
    },
    {
      "cell_type": "code",
      "source": [
        "%cd CS839\\ Project/ADE20K_outputs"
      ],
      "metadata": {
        "colab": {
          "base_uri": "https://localhost:8080/"
        },
        "id": "-ixF75xFZv55",
        "outputId": "0b81a6c8-582a-4748-ff5a-82036cd5ff1f"
      },
      "execution_count": null,
      "outputs": [
        {
          "output_type": "stream",
          "name": "stdout",
          "text": [
            "/content/drive/.shortcut-targets-by-id/1GJbVlPKw97sX41_uzJoAvjQmkKWbf0lX/CS839 Project/ADE20K_outputs\n"
          ]
        }
      ]
    },
    {
      "cell_type": "code",
      "source": [
        "!mkdir -p temp_files/validation_resized\n",
        "#!mkdir -p temp_files/stylegan_copies"
      ],
      "metadata": {
        "id": "Kju1T40ifmyc"
      },
      "execution_count": null,
      "outputs": []
    },
    {
      "cell_type": "code",
      "source": [
        "#!/usr/bin/python\n",
        "from PIL import Image\n",
        "import os, sys\n",
        "\n",
        "path = \"validation/\"\n",
        "path_out=\"temp_files/validation_resized/\"\n",
        "dirs = os.listdir( path )\n",
        "img_size=(225,225)\n",
        "\n",
        "\n",
        "for item in dirs:\n",
        "    if os.path.isfile(path+item):\n",
        "        im = Image.open(path+item)\n",
        "        f, e = os.path.splitext(path+item)\n",
        "        imResize = im.resize(img_size, Image.LANCZOS)\n",
        "        imResize.save(path_out + item.split(\".\")[0]+\".png\" , 'PNG', quality=100)"
      ],
      "metadata": {
        "id": "Yv6gS7UgdUQY"
      },
      "execution_count": null,
      "outputs": []
    },
    {
      "cell_type": "code",
      "source": [
        "def compare_folders(a,b):\n",
        "  a_n =!ls -la $a|wc -l\n",
        "  b_n= !ls -la $b|wc -l\n",
        "  print(a_n[0],b_n[0])"
      ],
      "metadata": {
        "id": "8fUorvu_bFSP"
      },
      "execution_count": null,
      "outputs": []
    },
    {
      "cell_type": "code",
      "source": [
        "compare_folders('temp_files/validation_resized','adain')"
      ],
      "metadata": {
        "colab": {
          "base_uri": "https://localhost:8080/"
        },
        "id": "aLbyCWkPC73P",
        "outputId": "5d4110cb-23d8-48b4-b738-3dd5815a54e7"
      },
      "execution_count": null,
      "outputs": [
        {
          "output_type": "stream",
          "name": "stdout",
          "text": [
            "815 815\n"
          ]
        }
      ]
    },
    {
      "cell_type": "code",
      "source": [
        "!python -m pytorch_fid temp_files/validation_resized adain_2056"
      ],
      "metadata": {
        "colab": {
          "base_uri": "https://localhost:8080/"
        },
        "id": "XNWNUaCSZzfJ",
        "outputId": "bf34535a-d2d8-4a85-d81b-11b78ee3cb62"
      },
      "execution_count": null,
      "outputs": [
        {
          "output_type": "stream",
          "name": "stdout",
          "text": [
            "100% 42/42 [00:15<00:00,  2.68it/s]\n",
            "100% 42/42 [00:15<00:00,  2.76it/s]\n",
            "FID:  35.52380056973254\n"
          ]
        }
      ]
    },
    {
      "cell_type": "code",
      "source": [
        "compare_folders('temp_files/validation_resized','temp_files/stylegan_copies')\n",
        "!python -m pytorch_fid temp_files/validation_resized temp_files/stylegan_copies"
      ],
      "metadata": {
        "colab": {
          "base_uri": "https://localhost:8080/"
        },
        "id": "cPRu4Vc1mZYo",
        "outputId": "9ed36b3c-d967-4abe-f031-07816e445568"
      },
      "execution_count": null,
      "outputs": [
        {
          "output_type": "stream",
          "name": "stdout",
          "text": [
            "total 20\n",
            "drwx------ 2 root root 4096 Dec  1 00:03 \u001b[0m\u001b[01;34madain\u001b[0m/\n",
            "drwx------ 2 root root 4096 Dec  1 00:03 \u001b[01;34mbaseline\u001b[0m/\n",
            "drwx------ 2 root root 4096 Dec  3 20:00 \u001b[01;34mstylegan\u001b[0m/\n",
            "drwx------ 4 root root 4096 Dec  3 21:39 \u001b[01;34mtemp_files\u001b[0m/\n",
            "drwx------ 2 root root 4096 Dec  3 20:33 \u001b[01;34mvalidation\u001b[0m/\n"
          ]
        }
      ]
    },
    {
      "cell_type": "code",
      "source": [
        "!pip install pytorch-ignite"
      ],
      "metadata": {
        "colab": {
          "base_uri": "https://localhost:8080/"
        },
        "id": "nt-mTYm131dx",
        "outputId": "4b9d7004-5a46-4512-a95d-fd86aba41a9a"
      },
      "execution_count": null,
      "outputs": [
        {
          "output_type": "stream",
          "name": "stdout",
          "text": [
            "Collecting pytorch-ignite\n",
            "  Downloading pytorch_ignite-0.4.13-py3-none-any.whl (272 kB)\n",
            "\u001b[?25l     \u001b[90m━━━━━━━━━━━━━━━━━━━━━━━━━━━━━━━━━━━━━━━━\u001b[0m \u001b[32m0.0/272.4 kB\u001b[0m \u001b[31m?\u001b[0m eta \u001b[36m-:--:--\u001b[0m\r\u001b[2K     \u001b[91m━━━━\u001b[0m\u001b[91m╸\u001b[0m\u001b[90m━━━━━━━━━━━━━━━━━━━━━━━━━━━━━━━━━━━\u001b[0m \u001b[32m30.7/272.4 kB\u001b[0m \u001b[31m1.2 MB/s\u001b[0m eta \u001b[36m0:00:01\u001b[0m\r\u001b[2K     \u001b[91m━━━━━━━━━━━━━━━━━━━━━━━━━━━━━━\u001b[0m\u001b[90m╺\u001b[0m\u001b[90m━━━━━━━━━\u001b[0m \u001b[32m204.8/272.4 kB\u001b[0m \u001b[31m3.4 MB/s\u001b[0m eta \u001b[36m0:00:01\u001b[0m\r\u001b[2K     \u001b[90m━━━━━━━━━━━━━━━━━━━━━━━━━━━━━━━━━━━━━━━━\u001b[0m \u001b[32m272.4/272.4 kB\u001b[0m \u001b[31m3.8 MB/s\u001b[0m eta \u001b[36m0:00:00\u001b[0m\n",
            "\u001b[?25hRequirement already satisfied: torch<3,>=1.3 in /usr/local/lib/python3.10/dist-packages (from pytorch-ignite) (2.1.0+cu118)\n",
            "Requirement already satisfied: packaging in /usr/local/lib/python3.10/dist-packages (from pytorch-ignite) (23.2)\n",
            "Requirement already satisfied: filelock in /usr/local/lib/python3.10/dist-packages (from torch<3,>=1.3->pytorch-ignite) (3.13.1)\n",
            "Requirement already satisfied: typing-extensions in /usr/local/lib/python3.10/dist-packages (from torch<3,>=1.3->pytorch-ignite) (4.5.0)\n",
            "Requirement already satisfied: sympy in /usr/local/lib/python3.10/dist-packages (from torch<3,>=1.3->pytorch-ignite) (1.12)\n",
            "Requirement already satisfied: networkx in /usr/local/lib/python3.10/dist-packages (from torch<3,>=1.3->pytorch-ignite) (3.2.1)\n",
            "Requirement already satisfied: jinja2 in /usr/local/lib/python3.10/dist-packages (from torch<3,>=1.3->pytorch-ignite) (3.1.2)\n",
            "Requirement already satisfied: fsspec in /usr/local/lib/python3.10/dist-packages (from torch<3,>=1.3->pytorch-ignite) (2023.6.0)\n",
            "Requirement already satisfied: triton==2.1.0 in /usr/local/lib/python3.10/dist-packages (from torch<3,>=1.3->pytorch-ignite) (2.1.0)\n",
            "Requirement already satisfied: MarkupSafe>=2.0 in /usr/local/lib/python3.10/dist-packages (from jinja2->torch<3,>=1.3->pytorch-ignite) (2.1.3)\n",
            "Requirement already satisfied: mpmath>=0.19 in /usr/local/lib/python3.10/dist-packages (from sympy->torch<3,>=1.3->pytorch-ignite) (1.3.0)\n",
            "Installing collected packages: pytorch-ignite\n",
            "Successfully installed pytorch-ignite-0.4.13\n"
          ]
        }
      ]
    },
    {
      "cell_type": "code",
      "source": [
        "\n",
        "import torch\n",
        "from torch import nn, optim\n",
        "import torchvision\n",
        "from torchvision import datasets, transforms\n",
        "\n",
        "from ignite.engine import *\n",
        "from ignite.handlers import *\n",
        "from ignite.metrics import *\n",
        "from ignite.utils import *\n",
        "from ignite.contrib.metrics.regression import *\n",
        "from ignite.contrib.metrics import *\n",
        "\n",
        "# create default evaluator for doctests"
      ],
      "metadata": {
        "id": "Yu5dIbiU2vlw"
      },
      "execution_count": null,
      "outputs": []
    },
    {
      "cell_type": "code",
      "source": [
        "\n",
        "def eval_step(engine, batch):\n",
        "    return batch\n",
        "\n",
        "default_evaluator = Engine(eval_step)\n",
        "default_evaluator2 = Engine(eval_step)\n",
        "default_evaluator3 = Engine(eval_step)\n",
        "default_evaluator4 = Engine(eval_step)"
      ],
      "metadata": {
        "id": "JM7QjIsK3HFv"
      },
      "execution_count": null,
      "outputs": []
    },
    {
      "cell_type": "code",
      "source": [
        "metric = SSIM(data_range=1.0)\n",
        "metric.attach(default_evaluator, 'ssim')\n",
        "metric2 = SSIM(data_range=1.0)\n",
        "metric2.attach(default_evaluator2, 'ssim')\n",
        "metric3 = SSIM(data_range=1.0)\n",
        "metric3.attach(default_evaluator3, 'ssim')\n",
        "metric4 = SSIM(data_range=1.0)\n",
        "metric4.attach(default_evaluator4, 'ssim')"
      ],
      "metadata": {
        "id": "fBtsTb3D4FQU"
      },
      "execution_count": null,
      "outputs": []
    },
    {
      "cell_type": "code",
      "source": [
        "transform = transforms.Compose([transforms.Resize((256,256)),\n",
        "                                transforms.ToTensor()\n",
        "                               ])"
      ],
      "metadata": {
        "id": "Cy9sRbsd67Xm"
      },
      "execution_count": null,
      "outputs": []
    },
    {
      "cell_type": "code",
      "source": [
        "base_loader=torch.utils.data.DataLoader(torchvision.datasets.ImageFolder('tempbase',transform=transform),batch_size=64,shuffle=False)\n",
        "val_loader=torch.utils.data.DataLoader(torchvision.datasets.ImageFolder('tempval',transform=transform),batch_size=64,shuffle=False)\n",
        "adain_loader=torch.utils.data.DataLoader(torchvision.datasets.ImageFolder('tempadain',transform=transform),batch_size=64,shuffle=False)\n",
        "stylegan_loader=torch.utils.data.DataLoader(torchvision.datasets.ImageFolder('tempstylegan',transform=transform),batch_size=64,shuffle=False)\n",
        "pretrained_loader=torch.utils.data.DataLoader(torchvision.datasets.ImageFolder('temppretrained',transform=transform),batch_size=64,shuffle=False)"
      ],
      "metadata": {
        "id": "bpPhWrSjZ29k"
      },
      "execution_count": null,
      "outputs": []
    },
    {
      "cell_type": "code",
      "source": [
        "import matplotlib.pyplot as plt\n",
        "import tqdm"
      ],
      "metadata": {
        "id": "UfC7QP-bvvT6"
      },
      "execution_count": null,
      "outputs": []
    },
    {
      "cell_type": "code",
      "source": [
        "base_ssim=[]\n",
        "adain_ssim=[]\n",
        "stylegan_ssim=[]\n",
        "pretrained_ssim=[]\n",
        "\n",
        "for a,b,c,d,e in tqdm.tqdm(zip(val_loader,base_loader,adain_loader,stylegan_loader,pretrained_loader)):\n",
        "  state = default_evaluator.run([[b[0], a[0]]])\n",
        "  state2 = default_evaluator2.run([[c[0], a[0]]])\n",
        "  state3 = default_evaluator3.run([[d[0], a[0]]])\n",
        "  state4 = default_evaluator4.run([[e[0], a[0]]])\n",
        "\n",
        "  base_ssim.append(state.metrics['ssim'])\n",
        "  adain_ssim.append(state2.metrics['ssim'])\n",
        "  stylegan_ssim.append(state3.metrics['ssim'])\n",
        "  pretrained_ssim.append(state4.metrics['ssim'])"
      ],
      "metadata": {
        "colab": {
          "base_uri": "https://localhost:8080/"
        },
        "id": "LpBDjSgQtTRq",
        "outputId": "1de4e4a9-8ea9-4624-eaac-4a432bc1660f"
      },
      "execution_count": null,
      "outputs": [
        {
          "output_type": "stream",
          "name": "stderr",
          "text": [
            "13it [37:55, 175.08s/it]\n"
          ]
        }
      ]
    },
    {
      "cell_type": "code",
      "source": [
        "sum(base_ssim)/len(base_ssim)"
      ],
      "metadata": {
        "colab": {
          "base_uri": "https://localhost:8080/"
        },
        "id": "O183GnZvsKkf",
        "outputId": "5eb20133-d0b4-4d41-de34-d38556e89489"
      },
      "execution_count": null,
      "outputs": [
        {
          "output_type": "execute_result",
          "data": {
            "text/plain": [
              "0.2941719819360938"
            ]
          },
          "metadata": {},
          "execution_count": 12
        }
      ]
    },
    {
      "cell_type": "code",
      "source": [
        "sum(adain_ssim)/len(adain_ssim)"
      ],
      "metadata": {
        "colab": {
          "base_uri": "https://localhost:8080/"
        },
        "id": "HkE5uEco5sW4",
        "outputId": "d893a9d5-26a0-4b45-d081-5c76937bf492"
      },
      "execution_count": null,
      "outputs": [
        {
          "output_type": "execute_result",
          "data": {
            "text/plain": [
              "0.2955579455530154"
            ]
          },
          "metadata": {},
          "execution_count": 13
        }
      ]
    },
    {
      "cell_type": "code",
      "source": [
        "sum(stylegan_ssim)/len(stylegan_ssim)"
      ],
      "metadata": {
        "colab": {
          "base_uri": "https://localhost:8080/"
        },
        "id": "zgSTodxRy9lv",
        "outputId": "d94b2aa4-7a06-49af-cb80-adf44ed4072f"
      },
      "execution_count": null,
      "outputs": [
        {
          "output_type": "execute_result",
          "data": {
            "text/plain": [
              "0.28926104545545156"
            ]
          },
          "metadata": {},
          "execution_count": 14
        }
      ]
    },
    {
      "cell_type": "code",
      "source": [
        "sum(pretrained_ssim)/len(pretrained_ssim)"
      ],
      "metadata": {
        "colab": {
          "base_uri": "https://localhost:8080/"
        },
        "id": "wOWtGGzfIfMF",
        "outputId": "401aadfb-ce02-4665-bda8-df188896c885"
      },
      "execution_count": null,
      "outputs": [
        {
          "output_type": "execute_result",
          "data": {
            "text/plain": [
              "0.29995734297397586"
            ]
          },
          "metadata": {},
          "execution_count": 15
        }
      ]
    },
    {
      "cell_type": "code",
      "source": [],
      "metadata": {
        "id": "UO9W6ui--Inq"
      },
      "execution_count": null,
      "outputs": []
    },
    {
      "cell_type": "code",
      "source": [
        "!pip install clean-fid"
      ],
      "metadata": {
        "id": "JpWQcrB8sWhe",
        "colab": {
          "base_uri": "https://localhost:8080/"
        },
        "outputId": "49ac460c-94e5-4e27-f048-2316d9e3c369"
      },
      "execution_count": null,
      "outputs": [
        {
          "output_type": "stream",
          "name": "stdout",
          "text": [
            "Collecting clean-fid\n",
            "  Downloading clean_fid-0.1.35-py3-none-any.whl (26 kB)\n",
            "Requirement already satisfied: torch in /usr/local/lib/python3.10/dist-packages (from clean-fid) (2.1.0+cu118)\n",
            "Requirement already satisfied: torchvision in /usr/local/lib/python3.10/dist-packages (from clean-fid) (0.16.0+cu118)\n",
            "Requirement already satisfied: numpy>=1.14.3 in /usr/local/lib/python3.10/dist-packages (from clean-fid) (1.23.5)\n",
            "Requirement already satisfied: scipy>=1.0.1 in /usr/local/lib/python3.10/dist-packages (from clean-fid) (1.11.4)\n",
            "Requirement already satisfied: tqdm>=4.28.1 in /usr/local/lib/python3.10/dist-packages (from clean-fid) (4.66.1)\n",
            "Requirement already satisfied: pillow>=8.1 in /usr/local/lib/python3.10/dist-packages (from clean-fid) (9.4.0)\n",
            "Requirement already satisfied: requests in /usr/local/lib/python3.10/dist-packages (from clean-fid) (2.31.0)\n",
            "Requirement already satisfied: charset-normalizer<4,>=2 in /usr/local/lib/python3.10/dist-packages (from requests->clean-fid) (3.3.2)\n",
            "Requirement already satisfied: idna<4,>=2.5 in /usr/local/lib/python3.10/dist-packages (from requests->clean-fid) (3.6)\n",
            "Requirement already satisfied: urllib3<3,>=1.21.1 in /usr/local/lib/python3.10/dist-packages (from requests->clean-fid) (2.0.7)\n",
            "Requirement already satisfied: certifi>=2017.4.17 in /usr/local/lib/python3.10/dist-packages (from requests->clean-fid) (2023.11.17)\n",
            "Requirement already satisfied: filelock in /usr/local/lib/python3.10/dist-packages (from torch->clean-fid) (3.13.1)\n",
            "Requirement already satisfied: typing-extensions in /usr/local/lib/python3.10/dist-packages (from torch->clean-fid) (4.5.0)\n",
            "Requirement already satisfied: sympy in /usr/local/lib/python3.10/dist-packages (from torch->clean-fid) (1.12)\n",
            "Requirement already satisfied: networkx in /usr/local/lib/python3.10/dist-packages (from torch->clean-fid) (3.2.1)\n",
            "Requirement already satisfied: jinja2 in /usr/local/lib/python3.10/dist-packages (from torch->clean-fid) (3.1.2)\n",
            "Requirement already satisfied: fsspec in /usr/local/lib/python3.10/dist-packages (from torch->clean-fid) (2023.6.0)\n",
            "Requirement already satisfied: triton==2.1.0 in /usr/local/lib/python3.10/dist-packages (from torch->clean-fid) (2.1.0)\n",
            "Requirement already satisfied: MarkupSafe>=2.0 in /usr/local/lib/python3.10/dist-packages (from jinja2->torch->clean-fid) (2.1.3)\n",
            "Requirement already satisfied: mpmath>=0.19 in /usr/local/lib/python3.10/dist-packages (from sympy->torch->clean-fid) (1.3.0)\n",
            "Installing collected packages: clean-fid\n",
            "Successfully installed clean-fid-0.1.35\n"
          ]
        }
      ]
    },
    {
      "cell_type": "code",
      "source": [
        "from cleanfid import fid\n",
        "score = fid.compute_kid('validation', 'adain')\n",
        "print(score)"
      ],
      "metadata": {
        "colab": {
          "base_uri": "https://localhost:8080/"
        },
        "id": "ZOM0RoBuzo3u",
        "outputId": "a7e87598-f405-4faf-9721-946fe4fbebaf"
      },
      "execution_count": null,
      "outputs": [
        {
          "output_type": "stream",
          "name": "stdout",
          "text": [
            "compute KID between two folders\n"
          ]
        },
        {
          "output_type": "stream",
          "name": "stderr",
          "text": [
            "/usr/local/lib/python3.10/dist-packages/torch/utils/data/dataloader.py:557: UserWarning: This DataLoader will create 12 worker processes in total. Our suggested max number of worker in current system is 2, which is smaller than what this DataLoader is going to create. Please be aware that excessive worker creation might get DataLoader running slow or even freeze, lower the worker number to avoid potential slowness/freeze if necessary.\n",
            "  warnings.warn(_create_warning_msg(\n"
          ]
        },
        {
          "output_type": "stream",
          "name": "stdout",
          "text": [
            "Found 814 images in the folder validation\n"
          ]
        },
        {
          "output_type": "stream",
          "name": "stderr",
          "text": [
            "KID validation : 100%|██████████| 26/26 [00:32<00:00,  1.27s/it]\n"
          ]
        },
        {
          "output_type": "stream",
          "name": "stdout",
          "text": [
            "Found 814 images in the folder adain\n"
          ]
        },
        {
          "output_type": "stream",
          "name": "stderr",
          "text": [
            "KID adain : 100%|██████████| 26/26 [00:23<00:00,  1.13it/s]\n"
          ]
        },
        {
          "output_type": "stream",
          "name": "stdout",
          "text": [
            "0.009370763952498333\n"
          ]
        }
      ]
    },
    {
      "cell_type": "code",
      "source": [
        "from cleanfid import fid\n",
        "score = fid.compute_kid('validation', 'baseline')\n",
        "print(score)"
      ],
      "metadata": {
        "colab": {
          "base_uri": "https://localhost:8080/"
        },
        "id": "m-eFTAOTzuTq",
        "outputId": "195cf221-6085-48c2-e693-2f0ec1db8f60"
      },
      "execution_count": null,
      "outputs": [
        {
          "output_type": "stream",
          "name": "stdout",
          "text": [
            "compute KID between two folders\n",
            "Found 814 images in the folder validation\n"
          ]
        },
        {
          "output_type": "stream",
          "name": "stderr",
          "text": [
            "KID validation : 100%|██████████| 26/26 [00:33<00:00,  1.30s/it]\n"
          ]
        },
        {
          "output_type": "stream",
          "name": "stdout",
          "text": [
            "Found 814 images in the folder baseline\n"
          ]
        },
        {
          "output_type": "stream",
          "name": "stderr",
          "text": [
            "KID baseline : 100%|██████████| 26/26 [00:24<00:00,  1.07it/s]\n"
          ]
        },
        {
          "output_type": "stream",
          "name": "stdout",
          "text": [
            "0.009807381939157488\n"
          ]
        }
      ]
    },
    {
      "cell_type": "code",
      "source": [
        "from cleanfid import fid\n",
        "score = fid.compute_kid('validation', 'stylegan')\n",
        "print(score)"
      ],
      "metadata": {
        "colab": {
          "base_uri": "https://localhost:8080/"
        },
        "id": "YYIa0dQB4j7d",
        "outputId": "3af42ab6-4f49-424a-a8ce-452bedce0eda"
      },
      "execution_count": null,
      "outputs": [
        {
          "output_type": "stream",
          "name": "stdout",
          "text": [
            "compute KID between two folders\n",
            "Found 814 images in the folder validation\n"
          ]
        },
        {
          "output_type": "stream",
          "name": "stderr",
          "text": [
            "KID validation : 100%|██████████| 26/26 [00:27<00:00,  1.05s/it]\n"
          ]
        },
        {
          "output_type": "stream",
          "name": "stdout",
          "text": [
            "Found 814 images in the folder stylegan\n"
          ]
        },
        {
          "output_type": "stream",
          "name": "stderr",
          "text": [
            "KID stylegan : 100%|██████████| 26/26 [00:26<00:00,  1.03s/it]\n"
          ]
        },
        {
          "output_type": "stream",
          "name": "stdout",
          "text": [
            "0.011138581310322096\n"
          ]
        }
      ]
    },
    {
      "cell_type": "code",
      "source": [
        "from cleanfid import fid\n",
        "score = fid.compute_kid('validation', 'pretrained')\n",
        "print(score)"
      ],
      "metadata": {
        "id": "TXtYSNgV4mes",
        "colab": {
          "base_uri": "https://localhost:8080/"
        },
        "outputId": "504927d1-29be-491c-f128-d3fd011d1949"
      },
      "execution_count": null,
      "outputs": [
        {
          "output_type": "stream",
          "name": "stdout",
          "text": [
            "compute KID between two folders\n",
            "Found 814 images in the folder validation\n"
          ]
        },
        {
          "output_type": "stream",
          "name": "stderr",
          "text": [
            "KID validation : 100%|██████████| 26/26 [00:26<00:00,  1.04s/it]\n"
          ]
        },
        {
          "output_type": "stream",
          "name": "stdout",
          "text": [
            "Found 814 images in the folder pretrained\n"
          ]
        },
        {
          "output_type": "stream",
          "name": "stderr",
          "text": [
            "KID pretrained : 100%|██████████| 26/26 [00:23<00:00,  1.09it/s]\n"
          ]
        },
        {
          "output_type": "stream",
          "name": "stdout",
          "text": [
            "0.0075687405183503835\n"
          ]
        }
      ]
    },
    {
      "cell_type": "code",
      "source": [],
      "metadata": {
        "id": "sOh8q3FDY5KK"
      },
      "execution_count": null,
      "outputs": []
    }
  ]
}